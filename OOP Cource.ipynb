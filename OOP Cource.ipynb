{
 "cells": [
  {
   "cell_type": "markdown",
   "id": "cdfb031a",
   "metadata": {},
   "source": [
    "## Object-Oriented Programming\n",
    "* It is a course from FreeCodeCamp.\n",
    "* Introduced by JimShapedCoding.\n",
    "* Finished at 09/09/2025\n"
   ]
  },
  {
   "cell_type": "markdown",
   "id": "11b865c8",
   "metadata": {},
   "source": [
    "* The best thing about OOP is that we can creat our own data types."
   ]
  },
  {
   "cell_type": "code",
   "execution_count": 3,
   "id": "453937a7",
   "metadata": {},
   "outputs": [
    {
     "name": "stdout",
     "output_type": "stream",
     "text": [
      "<class '__main__.Item'>\n",
      "<class 'str'>\n",
      "<class 'int'>\n",
      "<class 'int'>\n"
     ]
    }
   ],
   "source": [
    "class Item: # Creating a class called Item.\n",
    "    pass # It will do nothing\n",
    "\n",
    "item1 = Item() # Instance of the class Item.\n",
    "item1.name = \"Phone\" # This is called assigning an attribute to class instance.\n",
    "item1.price = 100\n",
    "item1.quantity = 5\n",
    "print(type(item1)) # Item\n",
    "print(type(item1.name)) # str\n",
    "print(type(item1.price)) # int\n",
    "print(type(item1.quantity)) # int\n"
   ]
  },
  {
   "cell_type": "markdown",
   "id": "2fc51953",
   "metadata": {},
   "source": [
    "#### Methods:\n",
    "* Methods are functions inside classes.\n",
    "* A method in python should take at least one argument which will be the class it self.\n",
    "we pass the class as argument using \"self\" keyword usually."
   ]
  },
  {
   "cell_type": "code",
   "execution_count": null,
   "id": "42b1ec2c",
   "metadata": {},
   "outputs": [
    {
     "name": "stdout",
     "output_type": "stream",
     "text": [
      "500\n",
      "4000\n"
     ]
    }
   ],
   "source": [
    "class Item: \n",
    "    def TotalPrice(self,x,y): # A method \n",
    "        return x * y\n",
    "    \n",
    "item1 = Item() \n",
    "item1.name = \"Phone\" \n",
    "item1.price = 100\n",
    "item1.quantity = 5\n",
    "print(item1.TotalPrice(item1.price, item1.quantity))\n",
    "\n",
    "item2 = Item() \n",
    "item2.name = \"Laptop\" \n",
    "item2.price = 1000\n",
    "item2.quantity = 4\n",
    "print(item2.TotalPrice(item2.price, item2.quantity))\n"
   ]
  },
  {
   "cell_type": "markdown",
   "id": "cdede7dc",
   "metadata": {},
   "source": [
    "#### Constructors:\n",
    "* Constructors are methods that executed automatically before anything when we creat an instance\n",
    "for a class."
   ]
  },
  {
   "cell_type": "code",
   "execution_count": 2,
   "id": "b4560368",
   "metadata": {},
   "outputs": [
    {
     "name": "stdout",
     "output_type": "stream",
     "text": [
      "Hello I am a Phone!\n",
      "Hello I am a Laptop!\n"
     ]
    }
   ],
   "source": [
    "class Item: \n",
    "    def __init__(self, name):\n",
    "        print(f\"Hello I am a {name}!\") # This will executed whenever we make an instance.\n",
    "        \n",
    "    \n",
    "item1 = Item(\"Phone\" )\n",
    "item1.price = 100\n",
    "item1.quantity = 5\n",
    "\n",
    "item2 = Item(\"Laptop\" )\n",
    "item2.price = 100\n",
    "item2.quantity = 4\n"
   ]
  },
  {
   "cell_type": "markdown",
   "id": "4f378c3b",
   "metadata": {},
   "source": [
    "* Insted of repeating attributes for any instance we create, we can make a \"universal\" attribute from the __init__ method.\n",
    "* Actually the best programming practice is to assign all attributes to parameter values inside the __init__ method.\n",
    "* __Note:__ Making attributes inside the constructor doesn't means that we can't make a special attributes for any of our instances."
   ]
  },
  {
   "cell_type": "code",
   "execution_count": 7,
   "id": "8d4afcf7",
   "metadata": {},
   "outputs": [
    {
     "name": "stdout",
     "output_type": "stream",
     "text": [
      "Phone, 100, 5\n",
      "Laptop, 1000, 4\n"
     ]
    }
   ],
   "source": [
    "class Item: \n",
    "    def __init__(self, name:str , price:int, quantity:int):\n",
    "       self.name = name\n",
    "       self.price = price\n",
    "       self.quantity = quantity\n",
    "       \n",
    "       \n",
    "item1 = Item(\"Phone\", 100, 5)\n",
    "print(item1.name, item1.price, item1.quantity, sep=', ')\n",
    "item2 = Item(\"Laptop\", 1000, 4)\n",
    "print(item2.name, item2.price, item2.quantity, sep=', ')\n"
   ]
  },
  {
   "cell_type": "markdown",
   "id": "3e374645",
   "metadata": {},
   "source": [
    "* As in ordinary functions, we can assign defalut values to the attributes of a specific class."
   ]
  },
  {
   "cell_type": "code",
   "execution_count": 8,
   "id": "744ff13a",
   "metadata": {},
   "outputs": [
    {
     "name": "stdout",
     "output_type": "stream",
     "text": [
      "Phone, 100, 5\n",
      "Laptop, 1000, 4\n"
     ]
    }
   ],
   "source": [
    "class Item: \n",
    "    def __init__(self, name:str , price:int, quantity:int=0):\n",
    "       self.name = name\n",
    "       self.price = price\n",
    "       self.quantity = quantity\n",
    "       \n",
    "       \n",
    "item1 = Item(\"Phone\", 100, 5)\n",
    "print(item1.name, item1.price, item1.quantity, sep=', ')\n",
    "item2 = Item(\"Laptop\", 1000, 4)\n",
    "print(item2.name, item2.price, item2.quantity, sep=', ')"
   ]
  },
  {
   "cell_type": "markdown",
   "id": "c8e406de",
   "metadata": {},
   "source": [
    "* The best practice for using methods will be as follow:"
   ]
  },
  {
   "cell_type": "code",
   "execution_count": null,
   "id": "b9d72476",
   "metadata": {},
   "outputs": [
    {
     "data": {
      "text/plain": [
       "500"
      ]
     },
     "execution_count": 11,
     "metadata": {},
     "output_type": "execute_result"
    }
   ],
   "source": [
    "class Item: \n",
    "    def __init__(self, name:str , price:int, quantity:int = 0):\n",
    "       self.name = name\n",
    "       self.price = price\n",
    "       self.quantity = quantity\n",
    "       \n",
    "    def TotalPrice(self):\n",
    "         return self.quantity * self.price\n",
    "\n",
    "item1 = Item(\"Phone\", 100, 5)\n",
    "item1.TotalPrice()"
   ]
  },
  {
   "cell_type": "markdown",
   "id": "9040b316",
   "metadata": {},
   "source": [
    "#### __assert__ Keyword:\n",
    "* We can validate the values of arguments using __assert__ Keyword.\n",
    "* \"Validate\" means to put a specific criteria for the arguments we pass in our methods. \n"
   ]
  },
  {
   "cell_type": "code",
   "execution_count": null,
   "id": "8d5f430b",
   "metadata": {},
   "outputs": [
    {
     "ename": "AssertionError",
     "evalue": "Price -100 is not greater than or equal to zero!",
     "output_type": "error",
     "traceback": [
      "\u001b[31m---------------------------------------------------------------------------\u001b[39m",
      "\u001b[31mAssertionError\u001b[39m                            Traceback (most recent call last)",
      "\u001b[36mCell\u001b[39m\u001b[36m \u001b[39m\u001b[32mIn[3]\u001b[39m\u001b[32m, line 14\u001b[39m\n\u001b[32m     11\u001b[39m     \u001b[38;5;28;01mdef\u001b[39;00m\u001b[38;5;250m \u001b[39m\u001b[34mTotalPrice\u001b[39m(\u001b[38;5;28mself\u001b[39m):\n\u001b[32m     12\u001b[39m          \u001b[38;5;28;01mreturn\u001b[39;00m \u001b[38;5;28mself\u001b[39m.quantity * \u001b[38;5;28mself\u001b[39m.price\n\u001b[32m---> \u001b[39m\u001b[32m14\u001b[39m item1 = \u001b[43mItem\u001b[49m\u001b[43m(\u001b[49m\u001b[33;43m\"\u001b[39;49m\u001b[33;43mPhone\u001b[39;49m\u001b[33;43m\"\u001b[39;49m\u001b[43m,\u001b[49m\u001b[43m \u001b[49m\u001b[43m-\u001b[49m\u001b[32;43m100\u001b[39;49m\u001b[43m,\u001b[49m\u001b[43m \u001b[49m\u001b[43m-\u001b[49m\u001b[32;43m5\u001b[39;49m\u001b[43m)\u001b[49m\n\u001b[32m     15\u001b[39m item1.TotalPrice()\n",
      "\u001b[36mCell\u001b[39m\u001b[36m \u001b[39m\u001b[32mIn[3]\u001b[39m\u001b[32m, line 4\u001b[39m, in \u001b[36mItem.__init__\u001b[39m\u001b[34m(self, name, price, quantity)\u001b[39m\n\u001b[32m      2\u001b[39m \u001b[38;5;28;01mdef\u001b[39;00m\u001b[38;5;250m \u001b[39m\u001b[34m__init__\u001b[39m(\u001b[38;5;28mself\u001b[39m, name:\u001b[38;5;28mstr\u001b[39m , price:\u001b[38;5;28mint\u001b[39m, quantity:\u001b[38;5;28mint\u001b[39m = \u001b[32m0\u001b[39m):\n\u001b[32m      3\u001b[39m    \u001b[38;5;66;03m# Run validation to the recieved arguments\u001b[39;00m\n\u001b[32m----> \u001b[39m\u001b[32m4\u001b[39m    \u001b[38;5;28;01massert\u001b[39;00m price >= \u001b[32m0\u001b[39m, \u001b[33mf\u001b[39m\u001b[33m\"\u001b[39m\u001b[33mPrice \u001b[39m\u001b[38;5;132;01m{\u001b[39;00mprice\u001b[38;5;132;01m}\u001b[39;00m\u001b[33m is not greater than or equal to zero!\u001b[39m\u001b[33m\"\u001b[39m\n\u001b[32m      5\u001b[39m    \u001b[38;5;28;01massert\u001b[39;00m quantity >= \u001b[32m0\u001b[39m, \u001b[33mf\u001b[39m\u001b[33m\"\u001b[39m\u001b[33mQuantity \u001b[39m\u001b[38;5;132;01m{\u001b[39;00mquantity\u001b[38;5;132;01m}\u001b[39;00m\u001b[33m is not greater than or equal to zero!\u001b[39m\u001b[33m\"\u001b[39m\n\u001b[32m      6\u001b[39m    \u001b[38;5;66;03m# Assign to self object\u001b[39;00m\n",
      "\u001b[31mAssertionError\u001b[39m: Price -100 is not greater than or equal to zero!"
     ]
    }
   ],
   "source": [
    "class Item: \n",
    "    def __init__(self, name:str , price:int, quantity:int = 0):\n",
    "       # Run validation to the recieved arguments\n",
    "       assert price >= 0, f\"Price {price} is not greater than or equal to zero!\"\n",
    "       assert quantity >= 0, f\"Quantity {quantity} is not greater than or equal to zero!\"\n",
    "       # Assign to self object\n",
    "       self.name = name\n",
    "       self.price = price\n",
    "       self.quantity = quantity\n",
    "       \n",
    "    def TotalPrice(self):\n",
    "         return self.quantity * self.price\n",
    "\n",
    "item1 = Item(\"Phone\", -100, -5)\n",
    "item1.TotalPrice()"
   ]
  },
  {
   "cell_type": "markdown",
   "id": "7202e166",
   "metadata": {},
   "source": [
    "#### Class attributes:\n",
    "* Class attributes are __global__ attributes that we can use in every method in our class, they are differs from the __instance__ attributes that we have dealt with until now.\n",
    "*  Also, we can find out all the attributes that object has with the \"__dict__\" attribute."
   ]
  },
  {
   "cell_type": "code",
   "execution_count": 8,
   "id": "bd8068d5",
   "metadata": {},
   "outputs": [
    {
     "name": "stdout",
     "output_type": "stream",
     "text": [
      "0.8\n",
      "0.8\n",
      "0.8\n",
      "{'__module__': '__main__', '__firstlineno__': 1, 'PayRate': 0.8, '__init__': <function Item.__init__ at 0x000001A53A5B8680>, 'TotalPrice': <function Item.TotalPrice at 0x000001A53A5B85E0>, '__static_attributes__': ('name', 'price', 'quantity'), '__dict__': <attribute '__dict__' of 'Item' objects>, '__weakref__': <attribute '__weakref__' of 'Item' objects>, '__doc__': None}\n",
      "{'name': 'Phone', 'price': 100, 'quantity': 5}\n"
     ]
    }
   ],
   "source": [
    "class Item: \n",
    "    PayRate = 0.8 # Class attribute (The pay after 20% discount)\n",
    "    def __init__(self, name:str , price:int, quantity:int = 0):\n",
    "       # Run validation to the recieved arguments\n",
    "       assert price >= 0, f\"Price {price} is not greater than or equal to zero!\"\n",
    "       assert quantity >= 0, f\"Quantity {quantity} is not greater than or equal to zero!\"\n",
    "       # Assign to self object\n",
    "       self.name = name\n",
    "       self.price = price\n",
    "       self.quantity = quantity\n",
    "       \n",
    "    def TotalPrice(self):\n",
    "         return self.quantity * self.price\n",
    "\n",
    "item1 = Item(\"Phone\", 100, 5)\n",
    "item2 = Item(\"Laptop\", 1000, 4)\n",
    "\n",
    "print(Item.PayRate) # Accessing to the class attribute with the class object.\n",
    "print(item1.PayRate) # Accessing with a class instance. \n",
    "print(item2.PayRate)  # Accessing with a class instance. \n",
    "print(Item.__dict__) # All the attributes for the class level.\n",
    "print(item1.__dict__) # All the attributes for instance level.\n",
    "\n"
   ]
  },
  {
   "cell_type": "markdown",
   "id": "410a7a15",
   "metadata": {},
   "source": [
    "#### - Making a method to calculate price after disscount."
   ]
  },
  {
   "cell_type": "code",
   "execution_count": null,
   "id": "e8bf0676",
   "metadata": {},
   "outputs": [
    {
     "name": "stdout",
     "output_type": "stream",
     "text": [
      "0.8\n",
      "0.8\n",
      "0.8\n",
      "{'__module__': '__main__', '__firstlineno__': 1, 'PayRate': 0.8, '__init__': <function Item.__init__ at 0x000002BB1D6C5080>, 'TotalPrice': <function Item.TotalPrice at 0x000002BB1D6C4CC0>, 'ApplyDiscount': <function Item.ApplyDiscount at 0x000002BB1D6C42C0>, '__static_attributes__': ('name', 'price', 'quantity'), '__dict__': <attribute '__dict__' of 'Item' objects>, '__weakref__': <attribute '__weakref__' of 'Item' objects>, '__doc__': None}\n",
      "{'name': 'Phone', 'price': 100, 'quantity': 5}\n",
      "80.0\n",
      "700.0\n"
     ]
    }
   ],
   "source": [
    "class Item: \n",
    "    PayRate = 0.8 # Class attribute (The pay after 20% discount)\n",
    "    def __init__(self, name:str , price:int, quantity:int = 0):\n",
    "       # Run validation to the recieved arguments\n",
    "       assert price >= 0, f\"Price {price} is not greater than or equal to zero!\"\n",
    "       assert quantity >= 0, f\"Quantity {quantity} is not greater than or equal to zero!\"\n",
    "       # Assign to self object\n",
    "       self.name = name\n",
    "       self.price = price\n",
    "       self.quantity = quantity\n",
    "       \n",
    "    def TotalPrice(self):\n",
    "         return self.quantity * self.price\n",
    "      \n",
    "    def ApplyDiscount(self): # A method to calulate the the prce after discount.\n",
    "         # self.price = self.price * Item.PayRate , This is not the best practice.\n",
    "         self.price = self.price * self.PayRate # The best practice.\n",
    "         \n",
    "          \n",
    "\n",
    "item1 = Item(\"Phone\", 100, 5)\n",
    "item2 = Item(\"Laptop\", 1000, 4)\n",
    "\n",
    "print(Item.PayRate) # Accessing to the class attribute with the class object.\n",
    "print(item1.PayRate) # Accessing with a class instance. \n",
    "print(item2.PayRate)  # Accessing with a class instance. \n",
    "print(Item.__dict__) # All the attributes for the class level.\n",
    "print(item1.__dict__) # All the attributes for instance level.\n",
    "item1.ApplyDiscount()\n",
    "print(item1.price) # will become 80 after 20% discount.\n",
    "\"\"\"If we want to to apply a specific pay rate for a specific item we can make \n",
    "a 'PayRate' attribute on the instance level. \"\"\"\n",
    "item2.PayRate = 0.7\n",
    "item2.ApplyDiscount()\n",
    "print(item2.price) # will become 700 after 30% discount.\n",
    "\n"
   ]
  },
  {
   "cell_type": "markdown",
   "id": "f81fa468",
   "metadata": {},
   "source": [
    "#### Orginizing Obgicts with Lists:\n",
    "* We can orgnize our instances in a list making an empty list in the constructor method.\n",
    "* This is useful if we want to access to a specific attribute for all instances (This can be done using for loop).\n",
    "* We can represent the outputs of our methods using __repr__ magic method. "
   ]
  },
  {
   "cell_type": "code",
   "execution_count": null,
   "id": "d20e6a9a",
   "metadata": {},
   "outputs": [
    {
     "name": "stdout",
     "output_type": "stream",
     "text": [
      "Phone\n",
      "Laptop\n",
      "Cable\n",
      "Mouse\n",
      "Kayboard\n",
      "[Item(\"Phone\", 100, 5), Item(\"Laptop\", 1000, 4), Item(\"Cable\", 10, 5), Item(\"Mouse\", 50, 5), Item(\"Kayboard\", 75, 5)]\n"
     ]
    }
   ],
   "source": [
    "class Item: \n",
    "    PayRate = 0.8 # Class attribute (The pay after 20% discount)\n",
    "    all = []\n",
    "    def __init__(self, name:str , price:int, quantity = 0):\n",
    "       # Run validation to the recieved arguments\n",
    "       assert price >= 0, f\"Price {price} is not greater than or equal to zero!\"\n",
    "       assert quantity >= 0, f\"Quantity {quantity} is not greater than or equal to zero!\"\n",
    "       \n",
    "       # Assign to self object\n",
    "       self.name = name\n",
    "       self.price = price\n",
    "       self.quantity = quantity\n",
    "       \n",
    "       # Actions to execute:\n",
    "       Item.all.append(self)\n",
    "       \n",
    "       \n",
    "    def TotalPrice(self):\n",
    "         return self.quantity * self.price\n",
    "      \n",
    "    def ApplyDiscount(self): # A method to calulate the the prce after discount.\n",
    "         # self.price = self.price * Item.PayRate , This is not the best practice.\n",
    "         self.price = self.price * self.PayRate # The best practice.\n",
    "      \n",
    "     # Repesints the the \"all\" list in a meaningful beautful format. \n",
    "    def __repr__(self):\n",
    "            return f\"Item(\\\"{self.name}\\\", {self.price}, {self.quantity})\"\n",
    "         \n",
    "          \n",
    "\n",
    "item1 = Item(\"Phone\", 100, 5)\n",
    "item2 = Item(\"Laptop\", 1000, 4)\n",
    "item3 = Item(\"Cable\", 10, 5)\n",
    "item4 = Item(\"Mouse\", 50, 5)\n",
    "item5 = Item(\"Kayboard\", 75, 5)\n",
    "\n",
    "for instance in Item.all: # This will loop over the \"all\" and print each instance name.\n",
    "    print(instance.name)\n",
    "\n",
    "print(Item.all) # Printing our list in a meaningful format."
   ]
  },
  {
   "cell_type": "markdown",
   "id": "73634ddc",
   "metadata": {},
   "source": [
    "#### Saving Information in CSV Files and Read Them:"
   ]
  },
  {
   "cell_type": "code",
   "execution_count": null,
   "id": "9c6f94dd",
   "metadata": {},
   "outputs": [
    {
     "name": "stdout",
     "output_type": "stream",
     "text": [
      "Item(\"Phone\", 100, 5)\n",
      "Item(\"Laptop\", 1000, 4)\n",
      "Item(\"Cable\", 10, 5)\n",
      "Item(\"Mouse\", 50, 5)\n",
      "Item(\"Kayboard\", 75, 5)\n"
     ]
    }
   ],
   "source": [
    "import csv\n",
    "class Item: \n",
    "    PayRate = 0.8 # Class attribute (The pay after 20% discount)\n",
    "    all = []\n",
    "    def __init__(self, name:str , price:int, quantity = 0):\n",
    "       # Run validation to the recieved arguments\n",
    "       assert price >= 0, f\"Price {price} is not greater than or equal to zero!\"\n",
    "       assert quantity >= 0, f\"Quantity {quantity} is not greater than or equal to zero!\"\n",
    "       \n",
    "       # Assign to self object\n",
    "       self.name = name\n",
    "       self.price = price\n",
    "       self.quantity = quantity\n",
    "       \n",
    "       # Actions to execute:\n",
    "       Item.all.append(self)\n",
    "       \n",
    "       \n",
    "    def TotalPrice(self):\n",
    "         return self.quantity * self.price\n",
    "      \n",
    "    def ApplyDiscount(self): # A method to calulate the the prce after discount.\n",
    "         # self.price = self.price * Item.PayRate , This is not the best practice.\n",
    "         self.price = self.price * self.PayRate # The best practice.\n",
    "        \n",
    "    # This is a class method thats read a CSV file and turn it into a list of dictionaries.\n",
    "    @classmethod # Decreator.\n",
    "    def readCSV(cls):\n",
    "        with open('Items.csv', 'r') as f:\n",
    "            reader = csv.DictReader(f) # This will read the CSV content as a list of dictionaries.\n",
    "            items = list(reader) \n",
    "        for item in items:\n",
    "            print(Item(\n",
    "                name = item.get('name'),\n",
    "                price = float(item.get('price')),\n",
    "                quantity = int(item.get('quantity'))\n",
    "            ))\n",
    "        \n",
    "            \n",
    "     # Repesints the the \"all\" list in a meaningful beautful format. \n",
    "    def __repr__(self):\n",
    "            return f\"Item(\\\"{self.name}\\\", {self.price}, {self.quantity})\"\n",
    "         \n",
    "    \n",
    "Item.readCSV()"
   ]
  },
  {
   "cell_type": "markdown",
   "id": "6d1cf1ed",
   "metadata": {},
   "source": [
    "#### Static Methods:"
   ]
  },
  {
   "cell_type": "code",
   "execution_count": null,
   "id": "928086d8",
   "metadata": {},
   "outputs": [
    {
     "name": "stdout",
     "output_type": "stream",
     "text": [
      "None\n"
     ]
    }
   ],
   "source": [
    "import csv\n",
    "class Item: \n",
    "    PayRate = 0.8 # Class attribute (The pay after 20% discount)\n",
    "    all = []\n",
    "    def __init__(self, name:str , price:int, quantity = 0):\n",
    "       # Run validation to the recieved arguments\n",
    "       assert price >= 0, f\"Price {price} is not greater than or equal to zero!\"\n",
    "       assert quantity >= 0, f\"Quantity {quantity} is not greater than or equal to zero!\"\n",
    "       \n",
    "       # Assign to self object\n",
    "       self.name = name\n",
    "       self.price = price\n",
    "       self.quantity = quantity\n",
    "       \n",
    "       # Actions to execute:\n",
    "       Item.all.append(self)\n",
    "       \n",
    "       \n",
    "    def TotalPrice(self):\n",
    "         return self.quantity * self.price\n",
    "      \n",
    "    def ApplyDiscount(self): # A method to calulate the the prce after discount.\n",
    "         # self.price = self.price * Item.PayRate , This is not the best practice.\n",
    "         self.price = self.price * self.PayRate # The best practice.\n",
    "        \n",
    "    # This is a class method thats read a CSV file and turn it into a list of dictionaries.\n",
    "    @classmethod # Decreator.\n",
    "    def readCSV(cls):\n",
    "        with open('Items.csv', 'r') as f:\n",
    "            reader = csv.DictReader(f) # This will read the CSV content as a list of dictionaries.\n",
    "            items = list(reader) \n",
    "        for item in items:\n",
    "            print(Item(\n",
    "                name = item.get('name'),\n",
    "                price = float(item.get('price')),\n",
    "                quantity = int(item.get('quantity'))\n",
    "            ))\n",
    "            \n",
    "    @staticmethod      \n",
    "    def isInteger(num):\n",
    "        if isinstance(num, float):\n",
    "            # This method will also count out float numbers that are point zero (e.g. 10.0, 5.0).\n",
    "            return num.is_integer() # Return True if a float is an integer (point zero).\n",
    "        elif isinstance(num, int):\n",
    "            return True\n",
    "        else:\n",
    "            return False\n",
    "        \n",
    "            \n",
    "     # Repesints the the \"all\" list in a meaningful beautful format. \n",
    "    def __repr__(self):\n",
    "            return f\"Item(\\\"{self.name}\\\", {self.price}, {self.quantity})\"\n",
    "         \n",
    "    \n",
    "Item.readCSV()\n",
    "item1 = Item.all()"
   ]
  },
  {
   "cell_type": "markdown",
   "id": "b1607777",
   "metadata": {},
   "source": [
    "#### Inheritense:\n",
    "* If we have someting to do with a specific object we can make a separated class for this object and make whatever number of methods that we need to apply on our object.\n",
    "* And __inheritense__ is a mechanism by which a child class can use the attributes and methods of a parent class.\n",
    "* __Parent Classes__ is : a class that provides attributes and methods to one ore more child classes.\n",
    "* __Child Classe__ is : a class that inherites from a parent class. It can use all attributes and methods of the parent classs withou redifining them.\n",
    "* __Super__ function gives the access to methods of a pparent class within a child class.\n",
    "* __A Decrator__ is a function that takes another function as input, adds some functionality, and return a new function. "
   ]
  },
  {
   "cell_type": "code",
   "execution_count": null,
   "id": "0cf246f7",
   "metadata": {},
   "outputs": [
    {
     "name": "stdout",
     "output_type": "stream",
     "text": [
      "12000\n",
      "6000\n",
      "[Phone(\"Honor X6c\", 4000, 3), Phone(\"Realme Note 50\", 3000, 2)]\n",
      "[Phone(\"Honor X6c\", 4000, 3), Phone(\"Realme Note 50\", 3000, 2)]\n"
     ]
    }
   ],
   "source": [
    "import csv\n",
    "class Item: \n",
    "    PayRate = 0.8 # Class attribute (The pay after 20% discount)\n",
    "    all = []\n",
    "    def __init__(self, name:str , price:int, quantity = 0):\n",
    "       # Run validation to the recieved arguments\n",
    "       assert price >= 0, f\"Price {price} is not greater than or equal to zero!\"\n",
    "       assert quantity >= 0, f\"Quantity {quantity} is not greater than or equal to zero!\"\n",
    "       \n",
    "       # Assign to self object\n",
    "       self.name = name\n",
    "       self.price = price\n",
    "       self.quantity = quantity\n",
    "       \n",
    "       # Actions to execute:\n",
    "       Item.all.append(self)\n",
    "       \n",
    "       \n",
    "    def TotalPrice(self):\n",
    "         return self.quantity * self.price\n",
    "      \n",
    "    def ApplyDiscount(self): # A method to calulate the the prce after discount.\n",
    "         # self.price = self.price * Item.PayRate , This is not the best practice.\n",
    "         self.price = self.price * self.PayRate # The best practice.\n",
    "        \n",
    "    # This is a class method thats read a CSV file and turn it into a list of dictionaries.\n",
    "    @classmethod # Decreator.\n",
    "    def readCSV(cls):\n",
    "        with open('Items.csv', 'r') as f:\n",
    "            reader = csv.DictReader(f) # This will read the CSV content as a list of dictionaries.\n",
    "            items = list(reader) \n",
    "        for item in items:\n",
    "            print(Item(\n",
    "                name = item.get('name'),\n",
    "                price = float(item.get('price')),\n",
    "                quantity = int(item.get('quantity'))\n",
    "            ))\n",
    "            \n",
    "    @staticmethod      \n",
    "    def isInteger(num):\n",
    "        if isinstance(num, float):\n",
    "            # This method will also count out float numbers that are point zero (e.g. 10.0, 5.0).\n",
    "            return num.is_integer() # Return True if a float is an integer (point zero).\n",
    "        elif isinstance(num, int):\n",
    "            return True\n",
    "        else:\n",
    "            return False\n",
    "        \n",
    "    @property\n",
    "    def readOneName(self):\n",
    "        return self\n",
    "        \n",
    "            \n",
    "     # Repesints the the \"all\" list in a meaningful beautful format. \n",
    "    def __repr__(self):\n",
    "            return f\"{self.__class__.__name__}(\\\"{self.name}\\\", {self.price}, {self.quantity})\"\n",
    "    \n",
    "# We make this method to add more attributes that are just limited to phones \n",
    "class Phone(Item):\n",
    "    def __init__(self, name:str , price:int, quantity = 0, BrokenPhones = 0):\n",
    "       # Call to super function to have access to all attributes and methods of the parent function.\n",
    "       super().__init__ (name, price, quantity)\n",
    "       \n",
    "       # Assign to self object\n",
    "       self.BrokenPhones = BrokenPhones\n",
    "       \n",
    "# Example:\n",
    "Phone1 = Phone(\"Honor X6c\", 4000, 3, 1 )\n",
    "print(Phone1.TotalPrice()) # We can call any method from the parent class. \n",
    "Phone2 = Phone(\"Realme Note 50\", 3000, 2, 1)\n",
    "print(Phone2.TotalPrice())\n",
    "print(Phone.all)\n",
    "print(Item.all)\n"
   ]
  },
  {
   "cell_type": "markdown",
   "id": "58e416b2",
   "metadata": {},
   "source": [
    "#### Making Classes in a separated files:"
   ]
  },
  {
   "cell_type": "markdown",
   "id": "a0656867",
   "metadata": {
    "notebookRunGroups": {
     "groupValue": "1"
    }
   },
   "source": [
    "#### Some Important Concepts:\n",
    "* __Encapsulation__: is the concept of hiding the intwernal details of a class and restricting direct access to some of attributes or methods, while providing controlled access through methods.\n",
    "* __Abstraction__: abstraction is an OOP concept that shows only the neccessery attributes and hides the unneccessery information.\n",
    "The main usage of abstraction is to hide unneccessery details from users. \n",
    "This means that if we have mini methods that we create to use in a bigger method, and don't want the user to access these methods we can make them \"private\" using \"__\" (double under score)\n",
    "* __Polymorphism__: means to use a method or a function with several different objects and get different returned values depend on the object calling them.\n"
   ]
  },
  {
   "cell_type": "markdown",
   "id": "6079f84f",
   "metadata": {},
   "source": [
    "#### The Final Item Class Version:"
   ]
  },
  {
   "cell_type": "code",
   "execution_count": null,
   "id": "dff66e1e",
   "metadata": {},
   "outputs": [],
   "source": [
    "import csv\n",
    "class Item: \n",
    "    PayRate = 0.8 # Class attribute (The pay after 20% discount)\n",
    "    all = []\n",
    "    def __init__(self, name:str , price:int, quantity = 0):\n",
    "       # Run validation to the recieved arguments\n",
    "       assert price >= 0, f\"Price {price} is not greater than or equal to zero!\"\n",
    "       assert quantity >= 0, f\"Quantity {quantity} is not greater than or equal to zero!\"\n",
    "       \n",
    "       # Assign to self object\n",
    "       self.__name = name\n",
    "       self.__price = price\n",
    "       self.quantity = quantity\n",
    "       \n",
    "       # Actions to execute:\n",
    "       Item.all.append(self)\n",
    "       \n",
    "       \n",
    "    def TotalPrice(self):\n",
    "         return self.quantity * self.__price\n",
    "        \n",
    "    # This is a class method thats read a CSV file and turn it into a list of dictionaries.\n",
    "    @classmethod # Decreator.\n",
    "    def readCSV(cls):\n",
    "        with open('Items.csv', 'r') as f:\n",
    "            reader = csv.DictReader(f) # This will read the CSV content as a list of dictionaries.\n",
    "            items = list(reader) \n",
    "        for item in items:\n",
    "            print(Item(\n",
    "                name = item.get('name'),\n",
    "                price = float(item.get('price')),\n",
    "                quantity = int(item.get('quantity'))\n",
    "            ))\n",
    "            \n",
    "    @staticmethod      \n",
    "    def isInteger(num):\n",
    "        if isinstance(num, float):\n",
    "            # This method will also count out float numbers that are point zero (e.g. 10.0, 5.0).\n",
    "            return num.is_integer() # Return True if a float is an integer (point zero).\n",
    "        elif isinstance(num, int):\n",
    "            return True\n",
    "        else:\n",
    "            return False\n",
    "        \n",
    "    @property\n",
    "    def price(self):\n",
    "        return self.__price\n",
    " \n",
    "    def ApplyDiscount(self): # A method to calulate the the prce after discount.\n",
    "         # self.price = self.price * Item.PayRate , This is not the best practice.\n",
    "         self.__price = self.__price * self.PayRate # The best practice.\n",
    "    \n",
    "    # If we want to increase the price with a specific precentage value we can use this method    \n",
    "    \n",
    "    def ApplyIncrement(self, increment: float):\n",
    "        return self.__price + self.__price * increment\n",
    "        \n",
    "    # property Decorator = read-only decrator.    \n",
    "    @property\n",
    "    def name(self):\n",
    "        return self.__name\n",
    "    \n",
    "    # If we want to set a new name although we have a reas-only decorator we can use\n",
    "    # a setter decorator as follow:\n",
    "    @name.setter\n",
    "    def name(self, value):\n",
    "        if len(value) > 10:\n",
    "            raise Exception(\"The name is too long!\")\n",
    "        else:\n",
    "            self.__name = value\n",
    "     \n",
    "     # Repesints the the \"all\" list in a meaningful beautful format. \n",
    "    def __repr__(self):\n",
    "            return f\"{self.__class__.__name__}(\\\"{self.name}\\\", {self.__price}, {self.quantity})\"\n",
    "    "
   ]
  },
  {
   "cell_type": "markdown",
   "id": "cda86242",
   "metadata": {},
   "source": [
    "#### The Phone Class:"
   ]
  },
  {
   "cell_type": "code",
   "execution_count": null,
   "id": "98349b72",
   "metadata": {},
   "outputs": [],
   "source": [
    "from Item import Item\n",
    "\n",
    "class Phone(Item):\n",
    "    def __init__(self, name:str , price:int, quantity = 0, BrokenPhones = 0):\n",
    "       # Call to super function to have access to all attributes and methods of the parent function.\n",
    "       super().__init__ (name, price, quantity)\n",
    "       \n",
    "       # Assign to self object\n",
    "       self.BrokenPhones = BrokenPhones"
   ]
  }
 ],
 "metadata": {
  "kernelspec": {
   "display_name": "Python 3",
   "language": "python",
   "name": "python3"
  },
  "language_info": {
   "codemirror_mode": {
    "name": "ipython",
    "version": 3
   },
   "file_extension": ".py",
   "mimetype": "text/x-python",
   "name": "python",
   "nbconvert_exporter": "python",
   "pygments_lexer": "ipython3",
   "version": "3.13.3"
  }
 },
 "nbformat": 4,
 "nbformat_minor": 5
}
